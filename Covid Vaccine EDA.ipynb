{
 "cells": [
  {
   "cell_type": "code",
   "execution_count": 1,
   "id": "cc74ff33",
   "metadata": {},
   "outputs": [],
   "source": [
    "import numpy as np\n",
    "import pandas as pd\n",
    "# importing the visualization library\n",
    "import matplotlib.pyplot as plt\n",
    "import seaborn as sns\n",
    "\n",
    "# This command makes charts show inline in a notebook\n",
    "%matplotlib inline\n",
    "plt.rcParams['figure.figsize'] = [10,6]"
   ]
  },
  {
   "cell_type": "code",
   "execution_count": 2,
   "id": "198f8b79",
   "metadata": {},
   "outputs": [
    {
     "data": {
      "text/html": [
       "<div>\n",
       "<style scoped>\n",
       "    .dataframe tbody tr th:only-of-type {\n",
       "        vertical-align: middle;\n",
       "    }\n",
       "\n",
       "    .dataframe tbody tr th {\n",
       "        vertical-align: top;\n",
       "    }\n",
       "\n",
       "    .dataframe thead th {\n",
       "        text-align: right;\n",
       "    }\n",
       "</style>\n",
       "<table border=\"1\" class=\"dataframe\">\n",
       "  <thead>\n",
       "    <tr style=\"text-align: right;\">\n",
       "      <th></th>\n",
       "      <th>Rank</th>\n",
       "      <th>NCT Number</th>\n",
       "      <th>Title</th>\n",
       "      <th>Acronym</th>\n",
       "      <th>Status</th>\n",
       "      <th>Study Results</th>\n",
       "      <th>Conditions</th>\n",
       "      <th>Interventions</th>\n",
       "      <th>Outcome Measures</th>\n",
       "      <th>Sponsor/Collaborators</th>\n",
       "      <th>...</th>\n",
       "      <th>Other IDs</th>\n",
       "      <th>Start Date</th>\n",
       "      <th>Primary Completion Date</th>\n",
       "      <th>Completion Date</th>\n",
       "      <th>First Posted</th>\n",
       "      <th>Results First Posted</th>\n",
       "      <th>Last Update Posted</th>\n",
       "      <th>Locations</th>\n",
       "      <th>Study Documents</th>\n",
       "      <th>URL</th>\n",
       "    </tr>\n",
       "  </thead>\n",
       "  <tbody>\n",
       "    <tr>\n",
       "      <th>0</th>\n",
       "      <td>1</td>\n",
       "      <td>NCT04785898</td>\n",
       "      <td>Diagnostic Performance of the ID Now™ COVID-19...</td>\n",
       "      <td>COVID-IDNow</td>\n",
       "      <td>Active, not recruiting</td>\n",
       "      <td>No Results Available</td>\n",
       "      <td>Covid19</td>\n",
       "      <td>Diagnostic Test: ID Now™ COVID-19 Screening Test</td>\n",
       "      <td>Evaluate the diagnostic performance of the ID ...</td>\n",
       "      <td>Groupe Hospitalier Paris Saint Joseph</td>\n",
       "      <td>...</td>\n",
       "      <td>COVID-IDNow</td>\n",
       "      <td>November 9, 2020</td>\n",
       "      <td>December 22, 2020</td>\n",
       "      <td>April 30, 2021</td>\n",
       "      <td>March 8, 2021</td>\n",
       "      <td>NaN</td>\n",
       "      <td>March 8, 2021</td>\n",
       "      <td>Groupe Hospitalier Paris Saint-Joseph, Paris, ...</td>\n",
       "      <td>NaN</td>\n",
       "      <td>https://ClinicalTrials.gov/show/NCT04785898</td>\n",
       "    </tr>\n",
       "    <tr>\n",
       "      <th>1</th>\n",
       "      <td>2</td>\n",
       "      <td>NCT04595136</td>\n",
       "      <td>Study to Evaluate the Efficacy of COVID19-0001...</td>\n",
       "      <td>COVID-19</td>\n",
       "      <td>Not yet recruiting</td>\n",
       "      <td>No Results Available</td>\n",
       "      <td>SARS-CoV-2 Infection</td>\n",
       "      <td>Drug: Drug COVID19-0001-USR|Drug: normal saline</td>\n",
       "      <td>Change on viral load results from baseline aft...</td>\n",
       "      <td>United Medical Specialties</td>\n",
       "      <td>...</td>\n",
       "      <td>COVID19-0001-USR</td>\n",
       "      <td>November 2, 2020</td>\n",
       "      <td>December 15, 2020</td>\n",
       "      <td>January 29, 2021</td>\n",
       "      <td>October 20, 2020</td>\n",
       "      <td>NaN</td>\n",
       "      <td>October 20, 2020</td>\n",
       "      <td>Cimedical, Barranquilla, Atlantico, Colombia</td>\n",
       "      <td>NaN</td>\n",
       "      <td>https://ClinicalTrials.gov/show/NCT04595136</td>\n",
       "    </tr>\n",
       "    <tr>\n",
       "      <th>2</th>\n",
       "      <td>3</td>\n",
       "      <td>NCT04395482</td>\n",
       "      <td>Lung CT Scan Analysis of SARS-CoV2 Induced Lun...</td>\n",
       "      <td>TAC-COVID19</td>\n",
       "      <td>Recruiting</td>\n",
       "      <td>No Results Available</td>\n",
       "      <td>covid19</td>\n",
       "      <td>Other: Lung CT scan analysis in COVID-19 patients</td>\n",
       "      <td>A qualitative analysis of parenchymal lung dam...</td>\n",
       "      <td>University of Milano Bicocca</td>\n",
       "      <td>...</td>\n",
       "      <td>TAC-COVID19</td>\n",
       "      <td>May 7, 2020</td>\n",
       "      <td>June 15, 2021</td>\n",
       "      <td>June 15, 2021</td>\n",
       "      <td>May 20, 2020</td>\n",
       "      <td>NaN</td>\n",
       "      <td>November 9, 2020</td>\n",
       "      <td>Ospedale Papa Giovanni XXIII, Bergamo, Italy|P...</td>\n",
       "      <td>NaN</td>\n",
       "      <td>https://ClinicalTrials.gov/show/NCT04395482</td>\n",
       "    </tr>\n",
       "    <tr>\n",
       "      <th>3</th>\n",
       "      <td>4</td>\n",
       "      <td>NCT04416061</td>\n",
       "      <td>The Role of a Private Hospital in Hong Kong Am...</td>\n",
       "      <td>COVID-19</td>\n",
       "      <td>Active, not recruiting</td>\n",
       "      <td>No Results Available</td>\n",
       "      <td>COVID</td>\n",
       "      <td>Diagnostic Test: COVID 19 Diagnostic Test</td>\n",
       "      <td>Proportion of asymptomatic subjects|Proportion...</td>\n",
       "      <td>Hong Kong Sanatorium &amp; Hospital</td>\n",
       "      <td>...</td>\n",
       "      <td>RC-2020-08</td>\n",
       "      <td>May 25, 2020</td>\n",
       "      <td>July 31, 2020</td>\n",
       "      <td>August 31, 2020</td>\n",
       "      <td>June 4, 2020</td>\n",
       "      <td>NaN</td>\n",
       "      <td>June 4, 2020</td>\n",
       "      <td>Hong Kong Sanatorium &amp; Hospital, Hong Kong, Ho...</td>\n",
       "      <td>NaN</td>\n",
       "      <td>https://ClinicalTrials.gov/show/NCT04416061</td>\n",
       "    </tr>\n",
       "    <tr>\n",
       "      <th>4</th>\n",
       "      <td>5</td>\n",
       "      <td>NCT04395924</td>\n",
       "      <td>Maternal-foetal Transmission of SARS-Cov-2</td>\n",
       "      <td>TMF-COVID-19</td>\n",
       "      <td>Recruiting</td>\n",
       "      <td>No Results Available</td>\n",
       "      <td>Maternal Fetal Infection Transmission|COVID-19...</td>\n",
       "      <td>Diagnostic Test: Diagnosis of SARS-Cov2 by RT-...</td>\n",
       "      <td>COVID-19 by positive PCR in cord blood and / o...</td>\n",
       "      <td>Centre Hospitalier Régional d'Orléans|Centre d...</td>\n",
       "      <td>...</td>\n",
       "      <td>CHRO-2020-10</td>\n",
       "      <td>May 5, 2020</td>\n",
       "      <td>May 2021</td>\n",
       "      <td>May 2021</td>\n",
       "      <td>May 20, 2020</td>\n",
       "      <td>NaN</td>\n",
       "      <td>June 4, 2020</td>\n",
       "      <td>CHR Orléans, Orléans, France</td>\n",
       "      <td>NaN</td>\n",
       "      <td>https://ClinicalTrials.gov/show/NCT04395924</td>\n",
       "    </tr>\n",
       "  </tbody>\n",
       "</table>\n",
       "<p>5 rows × 27 columns</p>\n",
       "</div>"
      ],
      "text/plain": [
       "   Rank   NCT Number                                              Title  \\\n",
       "0     1  NCT04785898  Diagnostic Performance of the ID Now™ COVID-19...   \n",
       "1     2  NCT04595136  Study to Evaluate the Efficacy of COVID19-0001...   \n",
       "2     3  NCT04395482  Lung CT Scan Analysis of SARS-CoV2 Induced Lun...   \n",
       "3     4  NCT04416061  The Role of a Private Hospital in Hong Kong Am...   \n",
       "4     5  NCT04395924         Maternal-foetal Transmission of SARS-Cov-2   \n",
       "\n",
       "        Acronym                  Status         Study Results  \\\n",
       "0   COVID-IDNow  Active, not recruiting  No Results Available   \n",
       "1      COVID-19      Not yet recruiting  No Results Available   \n",
       "2   TAC-COVID19              Recruiting  No Results Available   \n",
       "3      COVID-19  Active, not recruiting  No Results Available   \n",
       "4  TMF-COVID-19              Recruiting  No Results Available   \n",
       "\n",
       "                                          Conditions  \\\n",
       "0                                            Covid19   \n",
       "1                               SARS-CoV-2 Infection   \n",
       "2                                            covid19   \n",
       "3                                              COVID   \n",
       "4  Maternal Fetal Infection Transmission|COVID-19...   \n",
       "\n",
       "                                       Interventions  \\\n",
       "0   Diagnostic Test: ID Now™ COVID-19 Screening Test   \n",
       "1    Drug: Drug COVID19-0001-USR|Drug: normal saline   \n",
       "2  Other: Lung CT scan analysis in COVID-19 patients   \n",
       "3          Diagnostic Test: COVID 19 Diagnostic Test   \n",
       "4  Diagnostic Test: Diagnosis of SARS-Cov2 by RT-...   \n",
       "\n",
       "                                    Outcome Measures  \\\n",
       "0  Evaluate the diagnostic performance of the ID ...   \n",
       "1  Change on viral load results from baseline aft...   \n",
       "2  A qualitative analysis of parenchymal lung dam...   \n",
       "3  Proportion of asymptomatic subjects|Proportion...   \n",
       "4  COVID-19 by positive PCR in cord blood and / o...   \n",
       "\n",
       "                               Sponsor/Collaborators  ...         Other IDs  \\\n",
       "0              Groupe Hospitalier Paris Saint Joseph  ...       COVID-IDNow   \n",
       "1                         United Medical Specialties  ...  COVID19-0001-USR   \n",
       "2                       University of Milano Bicocca  ...       TAC-COVID19   \n",
       "3                    Hong Kong Sanatorium & Hospital  ...        RC-2020-08   \n",
       "4  Centre Hospitalier Régional d'Orléans|Centre d...  ...      CHRO-2020-10   \n",
       "\n",
       "         Start Date Primary Completion Date   Completion Date  \\\n",
       "0  November 9, 2020       December 22, 2020    April 30, 2021   \n",
       "1  November 2, 2020       December 15, 2020  January 29, 2021   \n",
       "2       May 7, 2020           June 15, 2021     June 15, 2021   \n",
       "3      May 25, 2020           July 31, 2020   August 31, 2020   \n",
       "4       May 5, 2020                May 2021          May 2021   \n",
       "\n",
       "       First Posted Results First Posted Last Update Posted  \\\n",
       "0     March 8, 2021                  NaN      March 8, 2021   \n",
       "1  October 20, 2020                  NaN   October 20, 2020   \n",
       "2      May 20, 2020                  NaN   November 9, 2020   \n",
       "3      June 4, 2020                  NaN       June 4, 2020   \n",
       "4      May 20, 2020                  NaN       June 4, 2020   \n",
       "\n",
       "                                           Locations Study Documents  \\\n",
       "0  Groupe Hospitalier Paris Saint-Joseph, Paris, ...             NaN   \n",
       "1       Cimedical, Barranquilla, Atlantico, Colombia             NaN   \n",
       "2  Ospedale Papa Giovanni XXIII, Bergamo, Italy|P...             NaN   \n",
       "3  Hong Kong Sanatorium & Hospital, Hong Kong, Ho...             NaN   \n",
       "4                       CHR Orléans, Orléans, France             NaN   \n",
       "\n",
       "                                           URL  \n",
       "0  https://ClinicalTrials.gov/show/NCT04785898  \n",
       "1  https://ClinicalTrials.gov/show/NCT04595136  \n",
       "2  https://ClinicalTrials.gov/show/NCT04395482  \n",
       "3  https://ClinicalTrials.gov/show/NCT04416061  \n",
       "4  https://ClinicalTrials.gov/show/NCT04395924  \n",
       "\n",
       "[5 rows x 27 columns]"
      ]
     },
     "execution_count": 2,
     "metadata": {},
     "output_type": "execute_result"
    }
   ],
   "source": [
    "#importing csv file\n",
    "df = pd.read_csv('COVID clinical trials.csv')\n",
    "df.head()"
   ]
  },
  {
   "cell_type": "code",
   "execution_count": 3,
   "id": "48872f81",
   "metadata": {},
   "outputs": [
    {
     "data": {
      "text/plain": [
       "Index(['Rank', 'NCT Number', 'Title', 'Acronym', 'Status', 'Study Results',\n",
       "       'Conditions', 'Interventions', 'Outcome Measures',\n",
       "       'Sponsor/Collaborators', 'Gender', 'Age', 'Phases', 'Enrollment',\n",
       "       'Funded Bys', 'Study Type', 'Study Designs', 'Other IDs', 'Start Date',\n",
       "       'Primary Completion Date', 'Completion Date', 'First Posted',\n",
       "       'Results First Posted', 'Last Update Posted', 'Locations',\n",
       "       'Study Documents', 'URL'],\n",
       "      dtype='object')"
      ]
     },
     "execution_count": 3,
     "metadata": {},
     "output_type": "execute_result"
    }
   ],
   "source": [
    "#inspect all columns\n",
    "df.columns"
   ]
  },
  {
   "cell_type": "raw",
   "id": "02e8bdbc",
   "metadata": {},
   "source": [
    "Rank: S.NO\n",
    "NCT Number : A unique identification code given to each clinical study record registered on ClinicalTrials.gov repository\n",
    "Title: Title of the study\n",
    "Acronym: The acronym or initials used to identify a clinical study (not all studies have one)\n",
    "Status: Indicates the current recruitment status or the expanded access status.\n",
    "Study Results: A study record that includes the summary results posted in the ClinicalTrials.gov results database\n",
    "Conditions: The disease, disorder, syndrome, illness, or injury that is being studied\n",
    "Interventions: process or action that is the focus of a clinical study. Interventions include drugs, medical devices, procedures,\n",
    "Outcome Measures\n",
    "Sponsor/Collaborators\n",
    "Gender\n",
    "Age\n",
    "Phases\n",
    "Enrollment\n",
    "Funded Bys\n",
    "Study Type\n",
    "Study Designs\n",
    "Other IDs\n",
    "Start Date\n",
    "Primary Completion Date\n",
    "Completion Date\n",
    "First Posted\n",
    "Results First Posted\n",
    "Last Update Posted\n",
    "Locations\n",
    "Study Documents\n",
    "URL"
   ]
  },
  {
   "cell_type": "markdown",
   "id": "b2e97bb6",
   "metadata": {},
   "source": [
    "# Explore Missing Values"
   ]
  },
  {
   "cell_type": "code",
   "execution_count": 4,
   "id": "17041cb7",
   "metadata": {},
   "outputs": [
    {
     "data": {
      "text/plain": [
       "Rank                          0\n",
       "NCT Number                    0\n",
       "Title                         0\n",
       "Acronym                    3303\n",
       "Status                        0\n",
       "Study Results                 0\n",
       "Conditions                    0\n",
       "Interventions               886\n",
       "Outcome Measures             35\n",
       "Sponsor/Collaborators         0\n",
       "Gender                       10\n",
       "Age                           0\n",
       "Phases                     2461\n",
       "Enrollment                   34\n",
       "Funded Bys                    0\n",
       "Study Type                    0\n",
       "Study Designs                35\n",
       "Other IDs                     1\n",
       "Start Date                   34\n",
       "Primary Completion Date      36\n",
       "Completion Date              36\n",
       "First Posted                  0\n",
       "Results First Posted       5747\n",
       "Last Update Posted            0\n",
       "Locations                   585\n",
       "Study Documents            5601\n",
       "URL                           0\n",
       "dtype: int64"
      ]
     },
     "execution_count": 4,
     "metadata": {},
     "output_type": "execute_result"
    }
   ],
   "source": [
    "df.isnull().sum()"
   ]
  },
  {
   "cell_type": "code",
   "execution_count": 5,
   "id": "21cc3915",
   "metadata": {},
   "outputs": [
    {
     "data": {
      "text/plain": [
       "Rank                       0.000000\n",
       "NCT Number                 0.000000\n",
       "Title                      0.000000\n",
       "Acronym                    0.571157\n",
       "Status                     0.000000\n",
       "Study Results              0.000000\n",
       "Conditions                 0.000000\n",
       "Interventions              0.153208\n",
       "Outcome Measures           0.006052\n",
       "Sponsor/Collaborators      0.000000\n",
       "Gender                     0.001729\n",
       "Age                        0.000000\n",
       "Phases                     0.425558\n",
       "Enrollment                 0.005879\n",
       "Funded Bys                 0.000000\n",
       "Study Type                 0.000000\n",
       "Study Designs              0.006052\n",
       "Other IDs                  0.000173\n",
       "Start Date                 0.005879\n",
       "Primary Completion Date    0.006225\n",
       "Completion Date            0.006225\n",
       "First Posted               0.000000\n",
       "Results First Posted       0.993775\n",
       "Last Update Posted         0.000000\n",
       "Locations                  0.101159\n",
       "Study Documents            0.968528\n",
       "URL                        0.000000\n",
       "dtype: float64"
      ]
     },
     "execution_count": 5,
     "metadata": {},
     "output_type": "execute_result"
    }
   ],
   "source": [
    "df.isnull().mean()"
   ]
  },
  {
   "cell_type": "code",
   "execution_count": 6,
   "id": "f7bf1c26",
   "metadata": {},
   "outputs": [
    {
     "data": {
      "text/plain": [
       "Rank                         int64\n",
       "NCT Number                  object\n",
       "Title                       object\n",
       "Acronym                     object\n",
       "Status                      object\n",
       "Study Results               object\n",
       "Conditions                  object\n",
       "Interventions               object\n",
       "Outcome Measures            object\n",
       "Sponsor/Collaborators       object\n",
       "Gender                      object\n",
       "Age                         object\n",
       "Phases                      object\n",
       "Enrollment                 float64\n",
       "Funded Bys                  object\n",
       "Study Type                  object\n",
       "Study Designs               object\n",
       "Other IDs                   object\n",
       "Start Date                  object\n",
       "Primary Completion Date     object\n",
       "Completion Date             object\n",
       "First Posted                object\n",
       "Results First Posted        object\n",
       "Last Update Posted          object\n",
       "Locations                   object\n",
       "Study Documents             object\n",
       "URL                         object\n",
       "dtype: object"
      ]
     },
     "execution_count": 6,
     "metadata": {},
     "output_type": "execute_result"
    }
   ],
   "source": [
    "#Checking Data Type\n",
    "df.dtypes"
   ]
  },
  {
   "cell_type": "markdown",
   "id": "f6a5f535",
   "metadata": {},
   "source": [
    "## Formating date columns into datetime form"
   ]
  },
  {
   "cell_type": "code",
   "execution_count": 7,
   "id": "240f9cd6",
   "metadata": {},
   "outputs": [
    {
     "data": {
      "text/plain": [
       "Rank                                int64\n",
       "NCT Number                         object\n",
       "Title                              object\n",
       "Acronym                            object\n",
       "Status                             object\n",
       "Study Results                      object\n",
       "Conditions                         object\n",
       "Interventions                      object\n",
       "Outcome Measures                   object\n",
       "Sponsor/Collaborators              object\n",
       "Gender                             object\n",
       "Age                                object\n",
       "Phases                             object\n",
       "Enrollment                        float64\n",
       "Funded Bys                         object\n",
       "Study Type                         object\n",
       "Study Designs                      object\n",
       "Other IDs                          object\n",
       "Start Date                 datetime64[ns]\n",
       "Primary Completion Date    datetime64[ns]\n",
       "Completion Date            datetime64[ns]\n",
       "First Posted               datetime64[ns]\n",
       "Results First Posted       datetime64[ns]\n",
       "Last Update Posted         datetime64[ns]\n",
       "Locations                          object\n",
       "Study Documents                    object\n",
       "URL                                object\n",
       "dtype: object"
      ]
     },
     "execution_count": 7,
     "metadata": {},
     "output_type": "execute_result"
    }
   ],
   "source": [
    "df['Start Date'] = pd.to_datetime(df['Start Date'])\n",
    "df['Primary Completion Date'] = pd.to_datetime(df['Primary Completion Date'])\n",
    "df['Completion Date'] = pd.to_datetime(df['Completion Date'])\n",
    "df['First Posted'] = pd.to_datetime(df['First Posted'])\n",
    "df['Results First Posted'] = pd.to_datetime(df['Results First Posted'])\n",
    "df['Last Update Posted'] = pd.to_datetime(df['Last Update Posted'])\n",
    "\n",
    "df.dtypes"
   ]
  },
  {
   "cell_type": "markdown",
   "id": "9f144ca3",
   "metadata": {},
   "source": [
    "## Explore the Age, Gender distribution in the studies"
   ]
  },
  {
   "cell_type": "code",
   "execution_count": 8,
   "id": "8468b556",
   "metadata": {},
   "outputs": [
    {
     "data": {
      "text/plain": [
       "array(['All', 'Female', 'Male', nan], dtype=object)"
      ]
     },
     "execution_count": 8,
     "metadata": {},
     "output_type": "execute_result"
    }
   ],
   "source": [
    "df['Gender'].unique()"
   ]
  },
  {
   "cell_type": "code",
   "execution_count": 21,
   "id": "7e514081",
   "metadata": {},
   "outputs": [
    {
     "data": {
      "text/plain": [
       "Gender\n",
       "All       5567\n",
       "Female     162\n",
       "Male        44\n",
       "Name: Rank, dtype: int64"
      ]
     },
     "execution_count": 21,
     "metadata": {},
     "output_type": "execute_result"
    }
   ],
   "source": [
    "df.groupby('Gender').count()['Rank']"
   ]
  },
  {
   "cell_type": "markdown",
   "id": "421021f4",
   "metadata": {},
   "source": [
    "##Cleaning age column"
   ]
  },
  {
   "cell_type": "code",
   "execution_count": 15,
   "id": "c4f929ba",
   "metadata": {},
   "outputs": [],
   "source": [
    "import re"
   ]
  },
  {
   "cell_type": "code",
   "execution_count": 16,
   "id": "af7efb6a",
   "metadata": {},
   "outputs": [],
   "source": [
    "def cleanAge(age):\n",
    "    if len(re.findall(r'\\(.*\\)',age)):\n",
    "        return re.findall(r'\\(.*\\)',age)[0]\n",
    "    return '('+age+')'"
   ]
  },
  {
   "cell_type": "code",
   "execution_count": 17,
   "id": "405308bd",
   "metadata": {},
   "outputs": [
    {
     "data": {
      "image/png": "[encoded data removed]",
      "text/plain": [
       "<Figure size 720x432 with 1 Axes>"
      ]
     },
     "metadata": {
      "needs_background": "light"
     },
     "output_type": "display_data"
    }
   ],
   "source": [
    "ageData = df.Age.apply(lambda x : cleanAge(x))\n",
    "plt.xticks(rotation=45)\n",
    "ageData.hist(color='#003f5c')\n",
    "plt.grid(False)"
   ]
  },
  {
   "cell_type": "markdown",
   "id": "01ef5a09",
   "metadata": {},
   "source": [
    "### Observation\n",
    "\n",
    "- Adult,Older Adult age bracket are mostly studied\n",
    "\n",
    "- Child and older Adult age bracket has the lowest studies"
   ]
  },
  {
   "cell_type": "code",
   "execution_count": 20,
   "id": "1fa29838",
   "metadata": {},
   "outputs": [
    {
     "data": {
      "image/png": "[encoded data removed]",
      "text/plain": [
       "<Figure size 720x432 with 1 Axes>"
      ]
     },
     "metadata": {
      "needs_background": "light"
     },
     "output_type": "display_data"
    }
   ],
   "source": [
    "# Groupby Gender\n",
    "gender_count = df.groupby('Gender').count()['Rank']\n",
    "df['Gender'].hist(color='#003f5c')\n",
    "plt.grid(False)"
   ]
  },
  {
   "cell_type": "markdown",
   "id": "cfd48110",
   "metadata": {},
   "source": [
    "### Observation\n",
    "\n",
    "All gender are mostly represented in most studies"
   ]
  },
  {
   "cell_type": "markdown",
   "id": "a5453cca",
   "metadata": {},
   "source": [
    "## Exploring Study Phases"
   ]
  },
  {
   "cell_type": "code",
   "execution_count": 23,
   "id": "56f08321",
   "metadata": {},
   "outputs": [
    {
     "data": {
      "text/html": [
       "<div>\n",
       "<style scoped>\n",
       "    .dataframe tbody tr th:only-of-type {\n",
       "        vertical-align: middle;\n",
       "    }\n",
       "\n",
       "    .dataframe tbody tr th {\n",
       "        vertical-align: top;\n",
       "    }\n",
       "\n",
       "    .dataframe thead th {\n",
       "        text-align: right;\n",
       "    }\n",
       "</style>\n",
       "<table border=\"1\" class=\"dataframe\">\n",
       "  <thead>\n",
       "    <tr style=\"text-align: right;\">\n",
       "      <th></th>\n",
       "      <th>Rank</th>\n",
       "      <th>NCT Number</th>\n",
       "      <th>Title</th>\n",
       "      <th>Acronym</th>\n",
       "      <th>Status</th>\n",
       "      <th>Study Results</th>\n",
       "      <th>Conditions</th>\n",
       "      <th>Interventions</th>\n",
       "      <th>Outcome Measures</th>\n",
       "      <th>Sponsor/Collaborators</th>\n",
       "      <th>...</th>\n",
       "      <th>Other IDs</th>\n",
       "      <th>Start Date</th>\n",
       "      <th>Primary Completion Date</th>\n",
       "      <th>Completion Date</th>\n",
       "      <th>First Posted</th>\n",
       "      <th>Results First Posted</th>\n",
       "      <th>Last Update Posted</th>\n",
       "      <th>Locations</th>\n",
       "      <th>Study Documents</th>\n",
       "      <th>URL</th>\n",
       "    </tr>\n",
       "    <tr>\n",
       "      <th>Phases</th>\n",
       "      <th></th>\n",
       "      <th></th>\n",
       "      <th></th>\n",
       "      <th></th>\n",
       "      <th></th>\n",
       "      <th></th>\n",
       "      <th></th>\n",
       "      <th></th>\n",
       "      <th></th>\n",
       "      <th></th>\n",
       "      <th></th>\n",
       "      <th></th>\n",
       "      <th></th>\n",
       "      <th></th>\n",
       "      <th></th>\n",
       "      <th></th>\n",
       "      <th></th>\n",
       "      <th></th>\n",
       "      <th></th>\n",
       "      <th></th>\n",
       "      <th></th>\n",
       "    </tr>\n",
       "  </thead>\n",
       "  <tbody>\n",
       "    <tr>\n",
       "      <th>Early Phase 1</th>\n",
       "      <td>46</td>\n",
       "      <td>46</td>\n",
       "      <td>46</td>\n",
       "      <td>12</td>\n",
       "      <td>46</td>\n",
       "      <td>46</td>\n",
       "      <td>46</td>\n",
       "      <td>46</td>\n",
       "      <td>46</td>\n",
       "      <td>46</td>\n",
       "      <td>...</td>\n",
       "      <td>46</td>\n",
       "      <td>46</td>\n",
       "      <td>46</td>\n",
       "      <td>46</td>\n",
       "      <td>46</td>\n",
       "      <td>0</td>\n",
       "      <td>46</td>\n",
       "      <td>41</td>\n",
       "      <td>3</td>\n",
       "      <td>46</td>\n",
       "    </tr>\n",
       "    <tr>\n",
       "      <th>Not Applicable</th>\n",
       "      <td>1354</td>\n",
       "      <td>1354</td>\n",
       "      <td>1354</td>\n",
       "      <td>559</td>\n",
       "      <td>1354</td>\n",
       "      <td>1354</td>\n",
       "      <td>1354</td>\n",
       "      <td>1354</td>\n",
       "      <td>1354</td>\n",
       "      <td>1354</td>\n",
       "      <td>...</td>\n",
       "      <td>1353</td>\n",
       "      <td>1354</td>\n",
       "      <td>1354</td>\n",
       "      <td>1354</td>\n",
       "      <td>1354</td>\n",
       "      <td>6</td>\n",
       "      <td>1354</td>\n",
       "      <td>1216</td>\n",
       "      <td>52</td>\n",
       "      <td>1354</td>\n",
       "    </tr>\n",
       "    <tr>\n",
       "      <th>Phase 1</th>\n",
       "      <td>234</td>\n",
       "      <td>234</td>\n",
       "      <td>234</td>\n",
       "      <td>45</td>\n",
       "      <td>234</td>\n",
       "      <td>234</td>\n",
       "      <td>234</td>\n",
       "      <td>234</td>\n",
       "      <td>234</td>\n",
       "      <td>234</td>\n",
       "      <td>...</td>\n",
       "      <td>234</td>\n",
       "      <td>234</td>\n",
       "      <td>234</td>\n",
       "      <td>234</td>\n",
       "      <td>234</td>\n",
       "      <td>4</td>\n",
       "      <td>234</td>\n",
       "      <td>208</td>\n",
       "      <td>8</td>\n",
       "      <td>234</td>\n",
       "    </tr>\n",
       "    <tr>\n",
       "      <th>Phase 1|Phase 2</th>\n",
       "      <td>192</td>\n",
       "      <td>192</td>\n",
       "      <td>192</td>\n",
       "      <td>53</td>\n",
       "      <td>192</td>\n",
       "      <td>192</td>\n",
       "      <td>192</td>\n",
       "      <td>192</td>\n",
       "      <td>192</td>\n",
       "      <td>192</td>\n",
       "      <td>...</td>\n",
       "      <td>192</td>\n",
       "      <td>192</td>\n",
       "      <td>192</td>\n",
       "      <td>192</td>\n",
       "      <td>192</td>\n",
       "      <td>2</td>\n",
       "      <td>192</td>\n",
       "      <td>174</td>\n",
       "      <td>5</td>\n",
       "      <td>192</td>\n",
       "    </tr>\n",
       "    <tr>\n",
       "      <th>Phase 2</th>\n",
       "      <td>685</td>\n",
       "      <td>685</td>\n",
       "      <td>685</td>\n",
       "      <td>303</td>\n",
       "      <td>685</td>\n",
       "      <td>685</td>\n",
       "      <td>685</td>\n",
       "      <td>685</td>\n",
       "      <td>685</td>\n",
       "      <td>685</td>\n",
       "      <td>...</td>\n",
       "      <td>685</td>\n",
       "      <td>685</td>\n",
       "      <td>685</td>\n",
       "      <td>685</td>\n",
       "      <td>685</td>\n",
       "      <td>6</td>\n",
       "      <td>685</td>\n",
       "      <td>616</td>\n",
       "      <td>19</td>\n",
       "      <td>685</td>\n",
       "    </tr>\n",
       "    <tr>\n",
       "      <th>Phase 2|Phase 3</th>\n",
       "      <td>200</td>\n",
       "      <td>200</td>\n",
       "      <td>200</td>\n",
       "      <td>89</td>\n",
       "      <td>200</td>\n",
       "      <td>200</td>\n",
       "      <td>200</td>\n",
       "      <td>200</td>\n",
       "      <td>200</td>\n",
       "      <td>200</td>\n",
       "      <td>...</td>\n",
       "      <td>200</td>\n",
       "      <td>200</td>\n",
       "      <td>200</td>\n",
       "      <td>200</td>\n",
       "      <td>200</td>\n",
       "      <td>1</td>\n",
       "      <td>200</td>\n",
       "      <td>165</td>\n",
       "      <td>8</td>\n",
       "      <td>200</td>\n",
       "    </tr>\n",
       "    <tr>\n",
       "      <th>Phase 3</th>\n",
       "      <td>450</td>\n",
       "      <td>450</td>\n",
       "      <td>450</td>\n",
       "      <td>241</td>\n",
       "      <td>450</td>\n",
       "      <td>450</td>\n",
       "      <td>450</td>\n",
       "      <td>450</td>\n",
       "      <td>450</td>\n",
       "      <td>450</td>\n",
       "      <td>...</td>\n",
       "      <td>450</td>\n",
       "      <td>450</td>\n",
       "      <td>450</td>\n",
       "      <td>450</td>\n",
       "      <td>450</td>\n",
       "      <td>11</td>\n",
       "      <td>450</td>\n",
       "      <td>400</td>\n",
       "      <td>22</td>\n",
       "      <td>450</td>\n",
       "    </tr>\n",
       "    <tr>\n",
       "      <th>Phase 4</th>\n",
       "      <td>161</td>\n",
       "      <td>161</td>\n",
       "      <td>161</td>\n",
       "      <td>76</td>\n",
       "      <td>161</td>\n",
       "      <td>161</td>\n",
       "      <td>161</td>\n",
       "      <td>161</td>\n",
       "      <td>161</td>\n",
       "      <td>161</td>\n",
       "      <td>...</td>\n",
       "      <td>161</td>\n",
       "      <td>161</td>\n",
       "      <td>161</td>\n",
       "      <td>161</td>\n",
       "      <td>161</td>\n",
       "      <td>0</td>\n",
       "      <td>161</td>\n",
       "      <td>149</td>\n",
       "      <td>4</td>\n",
       "      <td>161</td>\n",
       "    </tr>\n",
       "  </tbody>\n",
       "</table>\n",
       "<p>8 rows × 26 columns</p>\n",
       "</div>"
      ],
      "text/plain": [
       "                 Rank  NCT Number  Title  Acronym  Status  Study Results  \\\n",
       "Phases                                                                     \n",
       "Early Phase 1      46          46     46       12      46             46   \n",
       "Not Applicable   1354        1354   1354      559    1354           1354   \n",
       "Phase 1           234         234    234       45     234            234   \n",
       "Phase 1|Phase 2   192         192    192       53     192            192   \n",
       "Phase 2           685         685    685      303     685            685   \n",
       "Phase 2|Phase 3   200         200    200       89     200            200   \n",
       "Phase 3           450         450    450      241     450            450   \n",
       "Phase 4           161         161    161       76     161            161   \n",
       "\n",
       "                 Conditions  Interventions  Outcome Measures  \\\n",
       "Phases                                                         \n",
       "Early Phase 1            46             46                46   \n",
       "Not Applicable         1354           1354              1354   \n",
       "Phase 1                 234            234               234   \n",
       "Phase 1|Phase 2         192            192               192   \n",
       "Phase 2                 685            685               685   \n",
       "Phase 2|Phase 3         200            200               200   \n",
       "Phase 3                 450            450               450   \n",
       "Phase 4                 161            161               161   \n",
       "\n",
       "                 Sponsor/Collaborators  ...  Other IDs  Start Date  \\\n",
       "Phases                                  ...                          \n",
       "Early Phase 1                       46  ...         46          46   \n",
       "Not Applicable                    1354  ...       1353        1354   \n",
       "Phase 1                            234  ...        234         234   \n",
       "Phase 1|Phase 2                    192  ...        192         192   \n",
       "Phase 2                            685  ...        685         685   \n",
       "Phase 2|Phase 3                    200  ...        200         200   \n",
       "Phase 3                            450  ...        450         450   \n",
       "Phase 4                            161  ...        161         161   \n",
       "\n",
       "                 Primary Completion Date  Completion Date  First Posted  \\\n",
       "Phases                                                                    \n",
       "Early Phase 1                         46               46            46   \n",
       "Not Applicable                      1354             1354          1354   \n",
       "Phase 1                              234              234           234   \n",
       "Phase 1|Phase 2                      192              192           192   \n",
       "Phase 2                              685              685           685   \n",
       "Phase 2|Phase 3                      200              200           200   \n",
       "Phase 3                              450              450           450   \n",
       "Phase 4                              161              161           161   \n",
       "\n",
       "                 Results First Posted  Last Update Posted  Locations  \\\n",
       "Phases                                                                 \n",
       "Early Phase 1                       0                  46         41   \n",
       "Not Applicable                      6                1354       1216   \n",
       "Phase 1                             4                 234        208   \n",
       "Phase 1|Phase 2                     2                 192        174   \n",
       "Phase 2                             6                 685        616   \n",
       "Phase 2|Phase 3                     1                 200        165   \n",
       "Phase 3                            11                 450        400   \n",
       "Phase 4                             0                 161        149   \n",
       "\n",
       "                 Study Documents   URL  \n",
       "Phases                                  \n",
       "Early Phase 1                  3    46  \n",
       "Not Applicable                52  1354  \n",
       "Phase 1                        8   234  \n",
       "Phase 1|Phase 2                5   192  \n",
       "Phase 2                       19   685  \n",
       "Phase 2|Phase 3                8   200  \n",
       "Phase 3                       22   450  \n",
       "Phase 4                        4   161  \n",
       "\n",
       "[8 rows x 26 columns]"
      ]
     },
     "execution_count": 23,
     "metadata": {},
     "output_type": "execute_result"
    }
   ],
   "source": [
    "study_phase = df.groupby('Phases').count()\n",
    "study_phase"
   ]
  },
  {
   "cell_type": "code",
   "execution_count": 24,
   "id": "929dc607",
   "metadata": {},
   "outputs": [
    {
     "data": {
      "text/plain": [
       "Text(0, 0.5, 'Count of Study Phase')"
      ]
     },
     "execution_count": 24,
     "metadata": {},
     "output_type": "execute_result"
    },
    {
     "data": {
      "image/png": "[encoded data removed]",
      "text/plain": [
       "<Figure size 720x432 with 1 Axes>"
      ]
     },
     "metadata": {
      "needs_background": "light"
     },
     "output_type": "display_data"
    }
   ],
   "source": [
    "plt.xticks(rotation=45)\n",
    "plt.tick_params(left = False, bottom = False)\n",
    "phase_bar = sns.barplot(data=study_phase, x=study_phase.index, y='Rank')\n",
    "plt.bar_label(phase_bar.containers[0])\n",
    "plt.ylabel('Count of Study Phase')"
   ]
  },
  {
   "cell_type": "markdown",
   "id": "82dc5db0",
   "metadata": {},
   "source": [
    "### Observation\n",
    "Most Study where applicable are in Phase 2 and Phase 3"
   ]
  },
  {
   "cell_type": "markdown",
   "id": "03b49b60",
   "metadata": {},
   "source": [
    "## Recruitment status"
   ]
  },
  {
   "cell_type": "code",
   "execution_count": 26,
   "id": "e56054d5",
   "metadata": {},
   "outputs": [
    {
     "data": {
      "text/plain": [
       "<AxesSubplot:xlabel='count', ylabel='Status'>"
      ]
     },
     "execution_count": 26,
     "metadata": {},
     "output_type": "execute_result"
    },
    {
     "data": {
      "image/png": "[encoded data removed]",
      "text/plain": [
       "<Figure size 720x432 with 1 Axes>"
      ]
     },
     "metadata": {
      "needs_background": "light"
     },
     "output_type": "display_data"
    }
   ],
   "source": [
    "sns.countplot(y=\"Status\", data=df, color=\"c\")"
   ]
  },
  {
   "cell_type": "markdown",
   "id": "ff458dc5",
   "metadata": {},
   "source": [
    "### Observation\n",
    "Most studies are still recruiting"
   ]
  },
  {
   "cell_type": "markdown",
   "id": "cc361f26",
   "metadata": {},
   "source": [
    "## Enrolment"
   ]
  },
  {
   "cell_type": "code",
   "execution_count": 27,
   "id": "511581c0",
   "metadata": {},
   "outputs": [
    {
     "data": {
      "text/plain": [
       "<AxesSubplot:xlabel='Gender', ylabel='Enrollment'>"
      ]
     },
     "execution_count": 27,
     "metadata": {},
     "output_type": "execute_result"
    },
    {
     "data": {
      "image/png": "[encoded data removed]",
      "text/plain": [
       "<Figure size 720x432 with 1 Axes>"
      ]
     },
     "metadata": {
      "needs_background": "light"
     },
     "output_type": "display_data"
    }
   ],
   "source": [
    "gender_enrollment = df.groupby('Gender').count()[['Enrollment']]\n",
    "sns.barplot(data=gender_enrollment, x=gender_enrollment.index, y='Enrollment')"
   ]
  }
 ],
 "metadata": {
  "kernelspec": {
   "display_name": "Python 3 (ipykernel)",
   "language": "python",
   "name": "python3"
  },
  "language_info": {
   "codemirror_mode": {
    "name": "ipython",
    "version": 3
   },
   "file_extension": ".py",
   "mimetype": "text/x-python",
   "name": "python",
   "nbconvert_exporter": "python",
   "pygments_lexer": "ipython3",
   "version": "3.9.7"
  }
 },
 "nbformat": 4,
 "nbformat_minor": 5
}
